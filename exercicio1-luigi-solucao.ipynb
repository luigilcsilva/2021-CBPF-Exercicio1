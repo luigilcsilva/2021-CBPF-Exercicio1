{
 "cells": [
  {
   "cell_type": "markdown",
   "id": "3933b1a3",
   "metadata": {},
   "source": [
    "# Exercício 1 - CBPF"
   ]
  },
  {
   "cell_type": "markdown",
   "id": "815949b2",
   "metadata": {},
   "source": [
    "### Nesse exercício, irei explorar o arquivo fits fornecido. Primeiro, irei importar as bibliotecas necessárias."
   ]
  },
  {
   "cell_type": "code",
   "execution_count": 1,
   "id": "8fee9489",
   "metadata": {},
   "outputs": [],
   "source": [
    "from astropy.io import fits\n",
    "from astropy.table import Table\n",
    "import numpy as np\n",
    "import matplotlib.pyplot as plt\n",
    "%matplotlib inline\n",
    "import pandas as pd\n",
    "import seaborn\n",
    "import os"
   ]
  },
  {
   "cell_type": "markdown",
   "id": "ab8cc27e",
   "metadata": {},
   "source": [
    "### Abrir o arquivo de dados utilizando o astropy:"
   ]
  },
  {
   "cell_type": "code",
   "execution_count": 2,
   "id": "46f91590",
   "metadata": {},
   "outputs": [],
   "source": [
    "hdul = fits.open(\"legacy_dr8_class.fits\", ignore_missing_end=True)"
   ]
  },
  {
   "cell_type": "code",
   "execution_count": 3,
   "id": "9aba3e78",
   "metadata": {},
   "outputs": [
    {
     "data": {
      "text/plain": [
       "astropy.io.fits.hdu.hdulist.HDUList"
      ]
     },
     "execution_count": 3,
     "metadata": {},
     "output_type": "execute_result"
    }
   ],
   "source": [
    "type(hdul)"
   ]
  },
  {
   "cell_type": "markdown",
   "id": "a3a6803e",
   "metadata": {},
   "source": [
    "A seguir, algumas informações sobre a lista HDU (Header Data Unit)."
   ]
  },
  {
   "cell_type": "code",
   "execution_count": 4,
   "id": "c70a4100",
   "metadata": {},
   "outputs": [
    {
     "name": "stdout",
     "output_type": "stream",
     "text": [
      "Filename: legacy_dr8_class.fits\n",
      "No.    Name      Ver    Type      Cards   Dimensions   Format\n",
      "  0  PRIMARY       1 PrimaryHDU      16   (1362,)   uint8   \n",
      "  1  D:\\Dropbox\\class_data\\legacy_dr8.fits#1    1 BinTableHDU     56   203484R x 22C   [D, D, D, D, D, D, D, D, D, D, D, D, D, D, D, D, D, D, D, D, D, D]   \n"
     ]
    }
   ],
   "source": [
    "hdul.info()"
   ]
  },
  {
   "cell_type": "code",
   "execution_count": 5,
   "id": "6551897b",
   "metadata": {},
   "outputs": [
    {
     "data": {
      "text/plain": [
       "<astropy.io.fits.hdu.image.PrimaryHDU at 0x7fb44446b8e0>"
      ]
     },
     "execution_count": 5,
     "metadata": {},
     "output_type": "execute_result"
    }
   ],
   "source": [
    "hdul[0]"
   ]
  },
  {
   "cell_type": "code",
   "execution_count": 6,
   "id": "1aff54a7",
   "metadata": {},
   "outputs": [
    {
     "data": {
      "text/plain": [
       "SIMPLE  =                    T / Standard FITS format                           \n",
       "BITPIX  =                    8 / Character data                                 \n",
       "NAXIS   =                    1 / Text string                                    \n",
       "NAXIS1  =                 1362 / Number of characters                           \n",
       "VOTMETA =                    T / Table metadata in VOTable format               \n",
       "EXTEND  =                    T / There are standard extensions                  \n",
       "COMMENT                                                                         \n",
       "COMMENT The data in this primary HDU consists of bytes which                    \n",
       "COMMENT comprise a VOTABLE document.                                            \n",
       "COMMENT The VOTable describes the metadata of the table contained               \n",
       "COMMENT in the following BINTABLE extension.                                    \n",
       "COMMENT Such a BINTABLE extension can be used on its own as a perfectly         \n",
       "COMMENT good table, but the information from this HDU may provide some          \n",
       "COMMENT useful additional metadata.                                             \n",
       "COMMENT There is one following BINTABLE.                                        \n",
       "NTABLE  =                    1 / Number of following BINTABLE HDUs              "
      ]
     },
     "execution_count": 6,
     "metadata": {},
     "output_type": "execute_result"
    }
   ],
   "source": [
    "hdul[0].header"
   ]
  },
  {
   "cell_type": "code",
   "execution_count": 7,
   "id": "b7eed808",
   "metadata": {},
   "outputs": [
    {
     "data": {
      "text/plain": [
       "XTENSION= 'BINTABLE'           / binary table extension                         \n",
       "BITPIX  =                    8 / 8-bit bytes                                    \n",
       "NAXIS   =                    2 / 2-dimensional table                            \n",
       "NAXIS1  =                  176 / width of table in bytes                        \n",
       "NAXIS2  =               203484 / number of rows in table                        \n",
       "PCOUNT  =                    0 / size of special data area                      \n",
       "GCOUNT  =                    1 / one data group                                 \n",
       "TFIELDS =                   22 / number of columns                              \n",
       "EXTNAME = 'D:\\Dropbox\\class_data\\legacy_dr8.fits#1' / table name                \n",
       "TTYPE1  = 'ra      '           / label for column 1                             \n",
       "TFORM1  = 'D       '           / format for column 1                            \n",
       "TTYPE2  = 'dec     '           / label for column 2                             \n",
       "TFORM2  = 'D       '           / format for column 2                            \n",
       "TTYPE3  = 'MAG_R   '           / label for column 3                             \n",
       "TFORM3  = 'D       '           / format for column 3                            \n",
       "TTYPE4  = 'MAG_G   '           / label for column 4                             \n",
       "TFORM4  = 'D       '           / format for column 4                            \n",
       "TTYPE5  = 'MAG_Z   '           / label for column 5                             \n",
       "TFORM5  = 'D       '           / format for column 5                            \n",
       "TTYPE6  = 'MAG_W1  '           / label for column 6                             \n",
       "TFORM6  = 'D       '           / format for column 6                            \n",
       "TTYPE7  = 'MAG_W2  '           / label for column 7                             \n",
       "TFORM7  = 'D       '           / format for column 7                            \n",
       "TTYPE8  = 'MAG_W3  '           / label for column 8                             \n",
       "TFORM8  = 'D       '           / format for column 8                            \n",
       "TTYPE9  = 'MAG_W4  '           / label for column 9                             \n",
       "TFORM9  = 'D       '           / format for column 9                            \n",
       "TTYPE10 = 'MAGErr_R'           / label for column 10                            \n",
       "TFORM10 = 'D       '           / format for column 10                           \n",
       "TTYPE11 = 'MAGErr_G'           / label for column 11                            \n",
       "TFORM11 = 'D       '           / format for column 11                           \n",
       "TTYPE12 = 'MAGErr_Z'           / label for column 12                            \n",
       "TFORM12 = 'D       '           / format for column 12                           \n",
       "TTYPE13 = 'MAGErr_W1'          / label for column 13                            \n",
       "TFORM13 = 'D       '           / format for column 13                           \n",
       "TTYPE14 = 'MAGErr_W2'          / label for column 14                            \n",
       "TFORM14 = 'D       '           / format for column 14                           \n",
       "TTYPE15 = 'MAGErr_W3'          / label for column 15                            \n",
       "TFORM15 = 'D       '           / format for column 15                           \n",
       "TTYPE16 = 'MAGErr_W4'          / label for column 16                            \n",
       "TFORM16 = 'D       '           / format for column 16                           \n",
       "TTYPE17 = 'z       '           / label for column 17                            \n",
       "TFORM17 = 'D       '           / format for column 17                           \n",
       "TTYPE18 = 'zErr    '           / label for column 18                            \n",
       "TFORM18 = 'D       '           / format for column 18                           \n",
       "TTYPE19 = 'zmin    '           / label for column 19                            \n",
       "TFORM19 = 'D       '           / format for column 19                           \n",
       "TTYPE20 = 'zmax    '           / label for column 20                            \n",
       "TFORM20 = 'D       '           / format for column 20                           \n",
       "TTYPE21 = 'z_spec  '           / label for column 21                            \n",
       "TFORM21 = 'D       '           / format for column 21                           \n",
       "TTYPE22 = 'training'           / label for column 22                            \n",
       "TFORM22 = 'D       '           / format for column 22                           \n",
       "DATE-HDU= '2021-09-02T01:12:35' / Date of HDU creation (UTC)                    \n",
       "STILVERS= '3.3-2   '           / Version of STIL software                       \n",
       "STILCLAS= 'uk.ac.starlink.votable.FitsPlusTableWriter' / STIL Author class      "
      ]
     },
     "execution_count": 7,
     "metadata": {},
     "output_type": "execute_result"
    }
   ],
   "source": [
    "hdul[1].header"
   ]
  },
  {
   "cell_type": "code",
   "execution_count": 8,
   "id": "cda582a1",
   "metadata": {},
   "outputs": [],
   "source": [
    "data0 = hdul[0].data"
   ]
  },
  {
   "cell_type": "code",
   "execution_count": 9,
   "id": "267f49c2",
   "metadata": {},
   "outputs": [],
   "source": [
    "data1 = hdul[1].data"
   ]
  },
  {
   "cell_type": "code",
   "execution_count": 10,
   "id": "604bb688",
   "metadata": {},
   "outputs": [
    {
     "data": {
      "text/plain": [
       "numpy.ndarray"
      ]
     },
     "execution_count": 10,
     "metadata": {},
     "output_type": "execute_result"
    }
   ],
   "source": [
    "type(data0)"
   ]
  },
  {
   "cell_type": "code",
   "execution_count": 11,
   "id": "c75cd78f",
   "metadata": {},
   "outputs": [
    {
     "data": {
      "text/plain": [
       "astropy.io.fits.fitsrec.FITS_rec"
      ]
     },
     "execution_count": 11,
     "metadata": {},
     "output_type": "execute_result"
    }
   ],
   "source": [
    "type(data1)"
   ]
  },
  {
   "cell_type": "code",
   "execution_count": 12,
   "id": "6b80756e",
   "metadata": {},
   "outputs": [
    {
     "data": {
      "text/plain": [
       "(1362,)"
      ]
     },
     "execution_count": 12,
     "metadata": {},
     "output_type": "execute_result"
    }
   ],
   "source": [
    "data0.shape # table extensions can't be the first extension, so there's a dummy image extension at 0"
   ]
  },
  {
   "cell_type": "code",
   "execution_count": 13,
   "id": "b5443349",
   "metadata": {},
   "outputs": [
    {
     "data": {
      "text/plain": [
       "(203484,)"
      ]
     },
     "execution_count": 13,
     "metadata": {},
     "output_type": "execute_result"
    }
   ],
   "source": [
    "data1.shape"
   ]
  },
  {
   "cell_type": "markdown",
   "id": "2343ed88",
   "metadata": {},
   "source": [
    "### Gerando a tabela:"
   ]
  },
  {
   "cell_type": "code",
   "execution_count": 14,
   "id": "f0568fd1",
   "metadata": {},
   "outputs": [],
   "source": [
    "table_a = Table(data1)"
   ]
  },
  {
   "cell_type": "code",
   "execution_count": 15,
   "id": "ea8091c9",
   "metadata": {},
   "outputs": [
    {
     "data": {
      "text/plain": [
       "astropy.table.table.Table"
      ]
     },
     "execution_count": 15,
     "metadata": {},
     "output_type": "execute_result"
    }
   ],
   "source": [
    "type(table_a)"
   ]
  },
  {
   "cell_type": "markdown",
   "id": "fa420cc0",
   "metadata": {},
   "source": [
    "Algumas informações sobre a tabela:"
   ]
  },
  {
   "cell_type": "code",
   "execution_count": 16,
   "id": "0e7373ce",
   "metadata": {},
   "outputs": [
    {
     "data": {
      "text/html": [
       "<div><i>Table length=203484</i>\n",
       "<table id=\"table140410911902256\" class=\"table-striped table-bordered table-condensed\">\n",
       "<thead><tr><th>ra</th><th>dec</th><th>MAG_R</th><th>MAG_G</th><th>MAG_Z</th><th>MAG_W1</th><th>MAG_W2</th><th>MAG_W3</th><th>MAG_W4</th><th>MAGErr_R</th><th>MAGErr_G</th><th>MAGErr_Z</th><th>MAGErr_W1</th><th>MAGErr_W2</th><th>MAGErr_W3</th><th>MAGErr_W4</th><th>z</th><th>zErr</th><th>zmin</th><th>zmax</th><th>z_spec</th><th>training</th></tr></thead>\n",
       "<thead><tr><th>float64</th><th>float64</th><th>float64</th><th>float64</th><th>float64</th><th>float64</th><th>float64</th><th>float64</th><th>float64</th><th>float64</th><th>float64</th><th>float64</th><th>float64</th><th>float64</th><th>float64</th><th>float64</th><th>float64</th><th>float64</th><th>float64</th><th>float64</th><th>float64</th><th>float64</th></tr></thead>\n",
       "<tr><td>219.08289517954503</td><td>34.62503563674176</td><td>22.280200958251953</td><td>23.840595245361328</td><td>20.66927719116211</td><td>19.442676544189453</td><td>19.876930236816406</td><td>16.879316329956055</td><td>nan</td><td>0.06806910037994385</td><td>0.18660935759544373</td><td>0.01964740641415119</td><td>0.030202750116586685</td><td>0.10241585224866867</td><td>0.11477607488632202</td><td>-0.0759001150727272</td><td>0.778901219367981</td><td>0.08070003986358643</td><td>0.7025620341300964</td><td>0.8639621138572693</td><td>-99.0</td><td>0.0</td></tr>\n",
       "<tr><td>219.018686653907</td><td>34.62537369835652</td><td>20.950979232788086</td><td>22.239498138427734</td><td>20.180450439453125</td><td>19.764698028564453</td><td>20.02762222290039</td><td>18.840682983398438</td><td>nan</td><td>0.020584318786859512</td><td>0.05090845748782158</td><td>0.015757206827402115</td><td>0.04087268188595772</td><td>0.1184769868850708</td><td>0.706566572189331</td><td>-0.7996485233306885</td><td>0.33551111817359924</td><td>0.05468936264514923</td><td>0.28844860196113586</td><td>0.3978273272514343</td><td>-99.0</td><td>0.0</td></tr>\n",
       "<tr><td>218.9763831277981</td><td>34.626465741964694</td><td>18.89073944091797</td><td>20.20539665222168</td><td>18.109525680541992</td><td>18.055065155029297</td><td>18.447738647460938</td><td>nan</td><td>nan</td><td>0.005011069122701883</td><td>0.011482541449368</td><td>0.0034725747536867857</td><td>0.009082990698516369</td><td>0.029333235695958138</td><td>-9.551554679870605</td><td>-0.6828519701957703</td><td>0.21968227624893188</td><td>0.01073453575372696</td><td>0.209060937166214</td><td>0.2305300086736679</td><td>0.20600000023841858</td><td>1.0</td></tr>\n",
       "<tr><td>218.92461988134852</td><td>34.62559613136096</td><td>20.60637092590332</td><td>21.781631469726562</td><td>19.691598892211914</td><td>19.00655746459961</td><td>19.443334579467773</td><td>20.748811721801758</td><td>nan</td><td>0.020479494705796242</td><td>0.04327033460140228</td><td>0.017061179503798485</td><td>0.021253490820527077</td><td>0.07182589173316956</td><td>4.317370414733887</td><td>-0.8430752158164978</td><td>0.542923092842102</td><td>0.05138787627220154</td><td>0.4858550429344177</td><td>0.5886307954788208</td><td>-99.0</td><td>0.0</td></tr>\n",
       "<tr><td>219.10422528282172</td><td>34.62584794653823</td><td>20.372390747070312</td><td>21.050525665283203</td><td>20.042388916015625</td><td>20.373193740844727</td><td>20.97327423095703</td><td>19.442487716674805</td><td>17.46992301940918</td><td>0.018710194155573845</td><td>0.025213653221726418</td><td>0.022851288318634033</td><td>0.07867170870304108</td><td>0.3042357563972473</td><td>1.281699299812317</td><td>1.7885087728500366</td><td>0.22720582783222198</td><td>0.033312372863292694</td><td>0.19105462729930878</td><td>0.25767937302589417</td><td>-99.0</td><td>0.0</td></tr>\n",
       "<tr><td>219.1401551191026</td><td>34.63060062779776</td><td>21.168203353881836</td><td>22.17804718017578</td><td>20.70537757873535</td><td>20.669546127319336</td><td>21.462276458740234</td><td>18.50033187866211</td><td>nan</td><td>0.026804154738783836</td><td>0.050823792815208435</td><td>0.02964233234524727</td><td>0.09588156640529633</td><td>0.44736987352371216</td><td>0.5076057314872742</td><td>-0.840893566608429</td><td>0.4622515141963959</td><td>0.06538459658622742</td><td>0.3857685327529907</td><td>0.5165377259254456</td><td>-99.0</td><td>0.0</td></tr>\n",
       "<tr><td>...</td><td>...</td><td>...</td><td>...</td><td>...</td><td>...</td><td>...</td><td>...</td><td>...</td><td>...</td><td>...</td><td>...</td><td>...</td><td>...</td><td>...</td><td>...</td><td>...</td><td>...</td><td>...</td><td>...</td><td>...</td><td>...</td></tr>\n",
       "<tr><td>221.30998851742496</td><td>35.03107476388605</td><td>20.579233169555664</td><td>22.316905975341797</td><td>19.539865493774414</td><td>18.657052993774414</td><td>19.20832633972168</td><td>nan</td><td>19.94881820678711</td><td>0.03436385467648506</td><td>0.07112767547369003</td><td>0.02719735912978649</td><td>0.015554540790617466</td><td>0.05826186388731003</td><td>-4.076931953430176</td><td>19.238523483276367</td><td>0.48827993869781494</td><td>0.038879990577697754</td><td>0.4588622450828552</td><td>0.5366222262382507</td><td>-99.0</td><td>0.0</td></tr>\n",
       "<tr><td>221.30899510953466</td><td>35.02957290846069</td><td>22.453113555908203</td><td>25.050060272216797</td><td>20.602703094482422</td><td>19.193769454956055</td><td>19.6783447265625</td><td>nan</td><td>17.728694915771484</td><td>0.1109761893749237</td><td>0.6832901835441589</td><td>0.042926765978336334</td><td>0.02449021488428116</td><td>0.08757002651691437</td><td>-1.8948737382888794</td><td>2.4689102172851562</td><td>0.8793555498123169</td><td>0.07168042659759521</td><td>0.8045992255210876</td><td>0.9479600787162781</td><td>-99.0</td><td>0.0</td></tr>\n",
       "<tr><td>221.3846269372925</td><td>35.03130360684637</td><td>20.28984832763672</td><td>22.006526947021484</td><td>19.473064422607422</td><td>18.80082893371582</td><td>19.19900131225586</td><td>22.347728729248047</td><td>nan</td><td>0.023790303617715836</td><td>0.05875331535935402</td><td>0.023216672241687775</td><td>0.01745251566171646</td><td>0.05697645992040634</td><td>18.655874252319336</td><td>-0.5042646527290344</td><td>0.39951348304748535</td><td>0.029692083597183228</td><td>0.3711370527744293</td><td>0.4305212199687958</td><td>-99.0</td><td>0.0</td></tr>\n",
       "<tr><td>221.26710586697644</td><td>35.03265425222566</td><td>22.278854370117188</td><td>24.686527252197266</td><td>21.332008361816406</td><td>20.327465057373047</td><td>21.582365036010742</td><td>nan</td><td>15.524458885192871</td><td>0.15502116084098816</td><td>0.7033576369285583</td><td>0.15188129246234894</td><td>0.07050864398479462</td><td>0.5068475008010864</td><td>-0.1159524992108345</td><td>0.31885048747062683</td><td>0.5257939696311951</td><td>0.07638546824455261</td><td>0.44529086351394653</td><td>0.5980618000030518</td><td>-99.0</td><td>0.0</td></tr>\n",
       "<tr><td>221.35793083937708</td><td>35.0319557953791</td><td>21.25609016418457</td><td>22.794084548950195</td><td>20.24463653564453</td><td>18.83496856689453</td><td>19.022401809692383</td><td>17.893970489501953</td><td>16.110782623291016</td><td>0.05798603966832161</td><td>0.14076408743858337</td><td>0.0468146950006485</td><td>0.018521765246987343</td><td>0.04988972842693329</td><td>0.3245720863342285</td><td>0.5615150332450867</td><td>0.49714845418930054</td><td>0.061960369348526</td><td>0.44478124380111694</td><td>0.568701982498169</td><td>-99.0</td><td>0.0</td></tr>\n",
       "<tr><td>221.14003466677406</td><td>35.031834870454304</td><td>20.92877197265625</td><td>22.8109130859375</td><td>19.648155212402344</td><td>18.766456604003906</td><td>19.17987060546875</td><td>nan</td><td>nan</td><td>0.03346135839819908</td><td>0.11160016804933548</td><td>0.02110043726861477</td><td>0.0168348029255867</td><td>0.056150197982788086</td><td>-1.2860559225082397</td><td>-0.46046069264411926</td><td>0.5614101886749268</td><td>0.03476071357727051</td><td>0.5270323753356934</td><td>0.5965538024902344</td><td>-99.0</td><td>0.0</td></tr>\n",
       "<tr><td>221.30611517880223</td><td>35.032600651235455</td><td>22.02438735961914</td><td>23.518301010131836</td><td>20.66364288330078</td><td>19.733840942382812</td><td>20.518625259399414</td><td>nan</td><td>nan</td><td>0.07969223707914352</td><td>0.18641279637813568</td><td>0.058294251561164856</td><td>0.040753114968538284</td><td>0.1902618706226349</td><td>-0.7678796052932739</td><td>-0.5415232181549072</td><td>0.6700193881988525</td><td>0.08276483416557312</td><td>0.60814368724823</td><td>0.7736733555793762</td><td>-99.0</td><td>0.0</td></tr>\n",
       "</table></div>"
      ],
      "text/plain": [
       "<Table length=203484>\n",
       "        ra                dec         ...        z_spec       training\n",
       "     float64            float64       ...       float64       float64 \n",
       "------------------ ------------------ ... ------------------- --------\n",
       "219.08289517954503  34.62503563674176 ...               -99.0      0.0\n",
       "  219.018686653907  34.62537369835652 ...               -99.0      0.0\n",
       " 218.9763831277981 34.626465741964694 ... 0.20600000023841858      1.0\n",
       "218.92461988134852  34.62559613136096 ...               -99.0      0.0\n",
       "219.10422528282172  34.62584794653823 ...               -99.0      0.0\n",
       " 219.1401551191026  34.63060062779776 ...               -99.0      0.0\n",
       "               ...                ... ...                 ...      ...\n",
       "221.30998851742496  35.03107476388605 ...               -99.0      0.0\n",
       "221.30899510953466  35.02957290846069 ...               -99.0      0.0\n",
       " 221.3846269372925  35.03130360684637 ...               -99.0      0.0\n",
       "221.26710586697644  35.03265425222566 ...               -99.0      0.0\n",
       "221.35793083937708   35.0319557953791 ...               -99.0      0.0\n",
       "221.14003466677406 35.031834870454304 ...               -99.0      0.0\n",
       "221.30611517880223 35.032600651235455 ...               -99.0      0.0"
      ]
     },
     "execution_count": 16,
     "metadata": {},
     "output_type": "execute_result"
    }
   ],
   "source": [
    "table_a"
   ]
  },
  {
   "cell_type": "code",
   "execution_count": 17,
   "id": "605825a1",
   "metadata": {},
   "outputs": [
    {
     "data": {
      "text/plain": [
       "<TableColumns names=('ra','dec','MAG_R','MAG_G','MAG_Z','MAG_W1','MAG_W2','MAG_W3','MAG_W4','MAGErr_R','MAGErr_G','MAGErr_Z','MAGErr_W1','MAGErr_W2','MAGErr_W3','MAGErr_W4','z','zErr','zmin','zmax','z_spec','training')>"
      ]
     },
     "execution_count": 17,
     "metadata": {},
     "output_type": "execute_result"
    }
   ],
   "source": [
    "table_a.columns"
   ]
  },
  {
   "cell_type": "code",
   "execution_count": 18,
   "id": "7e1215b1",
   "metadata": {},
   "outputs": [
    {
     "data": {
      "text/plain": [
       "astropy.table.table.TableColumns"
      ]
     },
     "execution_count": 18,
     "metadata": {},
     "output_type": "execute_result"
    }
   ],
   "source": [
    "type(table_a.columns)"
   ]
  },
  {
   "cell_type": "code",
   "execution_count": 19,
   "id": "5d5d56ea",
   "metadata": {},
   "outputs": [
    {
     "data": {
      "text/plain": [
       "['ra',\n",
       " 'dec',\n",
       " 'MAG_R',\n",
       " 'MAG_G',\n",
       " 'MAG_Z',\n",
       " 'MAG_W1',\n",
       " 'MAG_W2',\n",
       " 'MAG_W3',\n",
       " 'MAG_W4',\n",
       " 'MAGErr_R',\n",
       " 'MAGErr_G',\n",
       " 'MAGErr_Z',\n",
       " 'MAGErr_W1',\n",
       " 'MAGErr_W2',\n",
       " 'MAGErr_W3',\n",
       " 'MAGErr_W4',\n",
       " 'z',\n",
       " 'zErr',\n",
       " 'zmin',\n",
       " 'zmax',\n",
       " 'z_spec',\n",
       " 'training']"
      ]
     },
     "execution_count": 19,
     "metadata": {},
     "output_type": "execute_result"
    }
   ],
   "source": [
    "table_a.colnames"
   ]
  },
  {
   "cell_type": "code",
   "execution_count": 20,
   "id": "5872ea4b",
   "metadata": {},
   "outputs": [
    {
     "data": {
      "text/plain": [
       "list"
      ]
     },
     "execution_count": 20,
     "metadata": {},
     "output_type": "execute_result"
    }
   ],
   "source": [
    "type(table_a.colnames)"
   ]
  },
  {
   "cell_type": "code",
   "execution_count": 21,
   "id": "ebb08fcc",
   "metadata": {},
   "outputs": [
    {
     "data": {
      "text/plain": [
       "OrderedDict()"
      ]
     },
     "execution_count": 21,
     "metadata": {},
     "output_type": "execute_result"
    }
   ],
   "source": [
    "table_a.meta"
   ]
  },
  {
   "cell_type": "code",
   "execution_count": 22,
   "id": "c30bec6e",
   "metadata": {},
   "outputs": [
    {
     "data": {
      "text/plain": [
       "203484"
      ]
     },
     "execution_count": 22,
     "metadata": {},
     "output_type": "execute_result"
    }
   ],
   "source": [
    "len(table_a)"
   ]
  },
  {
   "cell_type": "markdown",
   "id": "5b67ca0d",
   "metadata": {},
   "source": [
    "### Convertendo a tabela para um dataframe do Pandas"
   ]
  },
  {
   "cell_type": "code",
   "execution_count": 23,
   "id": "c955f5bf",
   "metadata": {},
   "outputs": [],
   "source": [
    "df = table_a.to_pandas()"
   ]
  },
  {
   "cell_type": "code",
   "execution_count": 24,
   "id": "f6d3a7ee",
   "metadata": {
    "scrolled": true
   },
   "outputs": [
    {
     "data": {
      "text/html": [
       "<div>\n",
       "<style scoped>\n",
       "    .dataframe tbody tr th:only-of-type {\n",
       "        vertical-align: middle;\n",
       "    }\n",
       "\n",
       "    .dataframe tbody tr th {\n",
       "        vertical-align: top;\n",
       "    }\n",
       "\n",
       "    .dataframe thead th {\n",
       "        text-align: right;\n",
       "    }\n",
       "</style>\n",
       "<table border=\"1\" class=\"dataframe\">\n",
       "  <thead>\n",
       "    <tr style=\"text-align: right;\">\n",
       "      <th></th>\n",
       "      <th>ra</th>\n",
       "      <th>dec</th>\n",
       "      <th>MAG_R</th>\n",
       "      <th>MAG_G</th>\n",
       "      <th>MAG_Z</th>\n",
       "      <th>MAG_W1</th>\n",
       "      <th>MAG_W2</th>\n",
       "      <th>MAG_W3</th>\n",
       "      <th>MAG_W4</th>\n",
       "      <th>MAGErr_R</th>\n",
       "      <th>...</th>\n",
       "      <th>MAGErr_W1</th>\n",
       "      <th>MAGErr_W2</th>\n",
       "      <th>MAGErr_W3</th>\n",
       "      <th>MAGErr_W4</th>\n",
       "      <th>z</th>\n",
       "      <th>zErr</th>\n",
       "      <th>zmin</th>\n",
       "      <th>zmax</th>\n",
       "      <th>z_spec</th>\n",
       "      <th>training</th>\n",
       "    </tr>\n",
       "  </thead>\n",
       "  <tbody>\n",
       "    <tr>\n",
       "      <th>0</th>\n",
       "      <td>219.082895</td>\n",
       "      <td>34.625036</td>\n",
       "      <td>22.280201</td>\n",
       "      <td>23.840595</td>\n",
       "      <td>20.669277</td>\n",
       "      <td>19.442677</td>\n",
       "      <td>19.876930</td>\n",
       "      <td>16.879316</td>\n",
       "      <td>NaN</td>\n",
       "      <td>0.068069</td>\n",
       "      <td>...</td>\n",
       "      <td>0.030203</td>\n",
       "      <td>0.102416</td>\n",
       "      <td>0.114776</td>\n",
       "      <td>-0.075900</td>\n",
       "      <td>0.778901</td>\n",
       "      <td>0.080700</td>\n",
       "      <td>0.702562</td>\n",
       "      <td>0.863962</td>\n",
       "      <td>-99.000</td>\n",
       "      <td>0.0</td>\n",
       "    </tr>\n",
       "    <tr>\n",
       "      <th>1</th>\n",
       "      <td>219.018687</td>\n",
       "      <td>34.625374</td>\n",
       "      <td>20.950979</td>\n",
       "      <td>22.239498</td>\n",
       "      <td>20.180450</td>\n",
       "      <td>19.764698</td>\n",
       "      <td>20.027622</td>\n",
       "      <td>18.840683</td>\n",
       "      <td>NaN</td>\n",
       "      <td>0.020584</td>\n",
       "      <td>...</td>\n",
       "      <td>0.040873</td>\n",
       "      <td>0.118477</td>\n",
       "      <td>0.706567</td>\n",
       "      <td>-0.799649</td>\n",
       "      <td>0.335511</td>\n",
       "      <td>0.054689</td>\n",
       "      <td>0.288449</td>\n",
       "      <td>0.397827</td>\n",
       "      <td>-99.000</td>\n",
       "      <td>0.0</td>\n",
       "    </tr>\n",
       "    <tr>\n",
       "      <th>2</th>\n",
       "      <td>218.976383</td>\n",
       "      <td>34.626466</td>\n",
       "      <td>18.890739</td>\n",
       "      <td>20.205397</td>\n",
       "      <td>18.109526</td>\n",
       "      <td>18.055065</td>\n",
       "      <td>18.447739</td>\n",
       "      <td>NaN</td>\n",
       "      <td>NaN</td>\n",
       "      <td>0.005011</td>\n",
       "      <td>...</td>\n",
       "      <td>0.009083</td>\n",
       "      <td>0.029333</td>\n",
       "      <td>-9.551555</td>\n",
       "      <td>-0.682852</td>\n",
       "      <td>0.219682</td>\n",
       "      <td>0.010735</td>\n",
       "      <td>0.209061</td>\n",
       "      <td>0.230530</td>\n",
       "      <td>0.206</td>\n",
       "      <td>1.0</td>\n",
       "    </tr>\n",
       "    <tr>\n",
       "      <th>3</th>\n",
       "      <td>218.924620</td>\n",
       "      <td>34.625596</td>\n",
       "      <td>20.606371</td>\n",
       "      <td>21.781631</td>\n",
       "      <td>19.691599</td>\n",
       "      <td>19.006557</td>\n",
       "      <td>19.443335</td>\n",
       "      <td>20.748812</td>\n",
       "      <td>NaN</td>\n",
       "      <td>0.020479</td>\n",
       "      <td>...</td>\n",
       "      <td>0.021253</td>\n",
       "      <td>0.071826</td>\n",
       "      <td>4.317370</td>\n",
       "      <td>-0.843075</td>\n",
       "      <td>0.542923</td>\n",
       "      <td>0.051388</td>\n",
       "      <td>0.485855</td>\n",
       "      <td>0.588631</td>\n",
       "      <td>-99.000</td>\n",
       "      <td>0.0</td>\n",
       "    </tr>\n",
       "    <tr>\n",
       "      <th>4</th>\n",
       "      <td>219.104225</td>\n",
       "      <td>34.625848</td>\n",
       "      <td>20.372391</td>\n",
       "      <td>21.050526</td>\n",
       "      <td>20.042389</td>\n",
       "      <td>20.373194</td>\n",
       "      <td>20.973274</td>\n",
       "      <td>19.442488</td>\n",
       "      <td>17.469923</td>\n",
       "      <td>0.018710</td>\n",
       "      <td>...</td>\n",
       "      <td>0.078672</td>\n",
       "      <td>0.304236</td>\n",
       "      <td>1.281699</td>\n",
       "      <td>1.788509</td>\n",
       "      <td>0.227206</td>\n",
       "      <td>0.033312</td>\n",
       "      <td>0.191055</td>\n",
       "      <td>0.257679</td>\n",
       "      <td>-99.000</td>\n",
       "      <td>0.0</td>\n",
       "    </tr>\n",
       "    <tr>\n",
       "      <th>...</th>\n",
       "      <td>...</td>\n",
       "      <td>...</td>\n",
       "      <td>...</td>\n",
       "      <td>...</td>\n",
       "      <td>...</td>\n",
       "      <td>...</td>\n",
       "      <td>...</td>\n",
       "      <td>...</td>\n",
       "      <td>...</td>\n",
       "      <td>...</td>\n",
       "      <td>...</td>\n",
       "      <td>...</td>\n",
       "      <td>...</td>\n",
       "      <td>...</td>\n",
       "      <td>...</td>\n",
       "      <td>...</td>\n",
       "      <td>...</td>\n",
       "      <td>...</td>\n",
       "      <td>...</td>\n",
       "      <td>...</td>\n",
       "      <td>...</td>\n",
       "    </tr>\n",
       "    <tr>\n",
       "      <th>203479</th>\n",
       "      <td>221.384627</td>\n",
       "      <td>35.031304</td>\n",
       "      <td>20.289848</td>\n",
       "      <td>22.006527</td>\n",
       "      <td>19.473064</td>\n",
       "      <td>18.800829</td>\n",
       "      <td>19.199001</td>\n",
       "      <td>22.347729</td>\n",
       "      <td>NaN</td>\n",
       "      <td>0.023790</td>\n",
       "      <td>...</td>\n",
       "      <td>0.017453</td>\n",
       "      <td>0.056976</td>\n",
       "      <td>18.655874</td>\n",
       "      <td>-0.504265</td>\n",
       "      <td>0.399513</td>\n",
       "      <td>0.029692</td>\n",
       "      <td>0.371137</td>\n",
       "      <td>0.430521</td>\n",
       "      <td>-99.000</td>\n",
       "      <td>0.0</td>\n",
       "    </tr>\n",
       "    <tr>\n",
       "      <th>203480</th>\n",
       "      <td>221.267106</td>\n",
       "      <td>35.032654</td>\n",
       "      <td>22.278854</td>\n",
       "      <td>24.686527</td>\n",
       "      <td>21.332008</td>\n",
       "      <td>20.327465</td>\n",
       "      <td>21.582365</td>\n",
       "      <td>NaN</td>\n",
       "      <td>15.524459</td>\n",
       "      <td>0.155021</td>\n",
       "      <td>...</td>\n",
       "      <td>0.070509</td>\n",
       "      <td>0.506848</td>\n",
       "      <td>-0.115952</td>\n",
       "      <td>0.318850</td>\n",
       "      <td>0.525794</td>\n",
       "      <td>0.076385</td>\n",
       "      <td>0.445291</td>\n",
       "      <td>0.598062</td>\n",
       "      <td>-99.000</td>\n",
       "      <td>0.0</td>\n",
       "    </tr>\n",
       "    <tr>\n",
       "      <th>203481</th>\n",
       "      <td>221.357931</td>\n",
       "      <td>35.031956</td>\n",
       "      <td>21.256090</td>\n",
       "      <td>22.794085</td>\n",
       "      <td>20.244637</td>\n",
       "      <td>18.834969</td>\n",
       "      <td>19.022402</td>\n",
       "      <td>17.893970</td>\n",
       "      <td>16.110783</td>\n",
       "      <td>0.057986</td>\n",
       "      <td>...</td>\n",
       "      <td>0.018522</td>\n",
       "      <td>0.049890</td>\n",
       "      <td>0.324572</td>\n",
       "      <td>0.561515</td>\n",
       "      <td>0.497148</td>\n",
       "      <td>0.061960</td>\n",
       "      <td>0.444781</td>\n",
       "      <td>0.568702</td>\n",
       "      <td>-99.000</td>\n",
       "      <td>0.0</td>\n",
       "    </tr>\n",
       "    <tr>\n",
       "      <th>203482</th>\n",
       "      <td>221.140035</td>\n",
       "      <td>35.031835</td>\n",
       "      <td>20.928772</td>\n",
       "      <td>22.810913</td>\n",
       "      <td>19.648155</td>\n",
       "      <td>18.766457</td>\n",
       "      <td>19.179871</td>\n",
       "      <td>NaN</td>\n",
       "      <td>NaN</td>\n",
       "      <td>0.033461</td>\n",
       "      <td>...</td>\n",
       "      <td>0.016835</td>\n",
       "      <td>0.056150</td>\n",
       "      <td>-1.286056</td>\n",
       "      <td>-0.460461</td>\n",
       "      <td>0.561410</td>\n",
       "      <td>0.034761</td>\n",
       "      <td>0.527032</td>\n",
       "      <td>0.596554</td>\n",
       "      <td>-99.000</td>\n",
       "      <td>0.0</td>\n",
       "    </tr>\n",
       "    <tr>\n",
       "      <th>203483</th>\n",
       "      <td>221.306115</td>\n",
       "      <td>35.032601</td>\n",
       "      <td>22.024387</td>\n",
       "      <td>23.518301</td>\n",
       "      <td>20.663643</td>\n",
       "      <td>19.733841</td>\n",
       "      <td>20.518625</td>\n",
       "      <td>NaN</td>\n",
       "      <td>NaN</td>\n",
       "      <td>0.079692</td>\n",
       "      <td>...</td>\n",
       "      <td>0.040753</td>\n",
       "      <td>0.190262</td>\n",
       "      <td>-0.767880</td>\n",
       "      <td>-0.541523</td>\n",
       "      <td>0.670019</td>\n",
       "      <td>0.082765</td>\n",
       "      <td>0.608144</td>\n",
       "      <td>0.773673</td>\n",
       "      <td>-99.000</td>\n",
       "      <td>0.0</td>\n",
       "    </tr>\n",
       "  </tbody>\n",
       "</table>\n",
       "<p>203484 rows × 22 columns</p>\n",
       "</div>"
      ],
      "text/plain": [
       "                ra        dec      MAG_R      MAG_G      MAG_Z     MAG_W1  \\\n",
       "0       219.082895  34.625036  22.280201  23.840595  20.669277  19.442677   \n",
       "1       219.018687  34.625374  20.950979  22.239498  20.180450  19.764698   \n",
       "2       218.976383  34.626466  18.890739  20.205397  18.109526  18.055065   \n",
       "3       218.924620  34.625596  20.606371  21.781631  19.691599  19.006557   \n",
       "4       219.104225  34.625848  20.372391  21.050526  20.042389  20.373194   \n",
       "...            ...        ...        ...        ...        ...        ...   \n",
       "203479  221.384627  35.031304  20.289848  22.006527  19.473064  18.800829   \n",
       "203480  221.267106  35.032654  22.278854  24.686527  21.332008  20.327465   \n",
       "203481  221.357931  35.031956  21.256090  22.794085  20.244637  18.834969   \n",
       "203482  221.140035  35.031835  20.928772  22.810913  19.648155  18.766457   \n",
       "203483  221.306115  35.032601  22.024387  23.518301  20.663643  19.733841   \n",
       "\n",
       "           MAG_W2     MAG_W3     MAG_W4  MAGErr_R  ...  MAGErr_W1  MAGErr_W2  \\\n",
       "0       19.876930  16.879316        NaN  0.068069  ...   0.030203   0.102416   \n",
       "1       20.027622  18.840683        NaN  0.020584  ...   0.040873   0.118477   \n",
       "2       18.447739        NaN        NaN  0.005011  ...   0.009083   0.029333   \n",
       "3       19.443335  20.748812        NaN  0.020479  ...   0.021253   0.071826   \n",
       "4       20.973274  19.442488  17.469923  0.018710  ...   0.078672   0.304236   \n",
       "...           ...        ...        ...       ...  ...        ...        ...   \n",
       "203479  19.199001  22.347729        NaN  0.023790  ...   0.017453   0.056976   \n",
       "203480  21.582365        NaN  15.524459  0.155021  ...   0.070509   0.506848   \n",
       "203481  19.022402  17.893970  16.110783  0.057986  ...   0.018522   0.049890   \n",
       "203482  19.179871        NaN        NaN  0.033461  ...   0.016835   0.056150   \n",
       "203483  20.518625        NaN        NaN  0.079692  ...   0.040753   0.190262   \n",
       "\n",
       "        MAGErr_W3  MAGErr_W4         z      zErr      zmin      zmax  z_spec  \\\n",
       "0        0.114776  -0.075900  0.778901  0.080700  0.702562  0.863962 -99.000   \n",
       "1        0.706567  -0.799649  0.335511  0.054689  0.288449  0.397827 -99.000   \n",
       "2       -9.551555  -0.682852  0.219682  0.010735  0.209061  0.230530   0.206   \n",
       "3        4.317370  -0.843075  0.542923  0.051388  0.485855  0.588631 -99.000   \n",
       "4        1.281699   1.788509  0.227206  0.033312  0.191055  0.257679 -99.000   \n",
       "...           ...        ...       ...       ...       ...       ...     ...   \n",
       "203479  18.655874  -0.504265  0.399513  0.029692  0.371137  0.430521 -99.000   \n",
       "203480  -0.115952   0.318850  0.525794  0.076385  0.445291  0.598062 -99.000   \n",
       "203481   0.324572   0.561515  0.497148  0.061960  0.444781  0.568702 -99.000   \n",
       "203482  -1.286056  -0.460461  0.561410  0.034761  0.527032  0.596554 -99.000   \n",
       "203483  -0.767880  -0.541523  0.670019  0.082765  0.608144  0.773673 -99.000   \n",
       "\n",
       "        training  \n",
       "0            0.0  \n",
       "1            0.0  \n",
       "2            1.0  \n",
       "3            0.0  \n",
       "4            0.0  \n",
       "...          ...  \n",
       "203479       0.0  \n",
       "203480       0.0  \n",
       "203481       0.0  \n",
       "203482       0.0  \n",
       "203483       0.0  \n",
       "\n",
       "[203484 rows x 22 columns]"
      ]
     },
     "execution_count": 24,
     "metadata": {},
     "output_type": "execute_result"
    }
   ],
   "source": [
    "df"
   ]
  },
  {
   "cell_type": "markdown",
   "id": "1c35a6df",
   "metadata": {},
   "source": [
    "### Plotando os dados "
   ]
  },
  {
   "cell_type": "code",
   "execution_count": 25,
   "id": "2734cb76",
   "metadata": {},
   "outputs": [
    {
     "data": {
      "text/plain": [
       "<function matplotlib.pyplot.show(close=None, block=None)>"
      ]
     },
     "execution_count": 25,
     "metadata": {},
     "output_type": "execute_result"
    },
    {
     "data": {
      "image/png": "[encoded data removed]",
      "text/plain": [
       "<Figure size 1120x1120 with 8 Axes>"
      ]
     },
     "metadata": {},
     "output_type": "display_data"
    }
   ],
   "source": [
    "# Definição de algumas variáveis úteis para o plot:\n",
    "data = table_a\n",
    "### MAG PLOTS\n",
    "BANDS = [\"R\",\"Z\", \"G\", \"W1\", \"W2\", \"W3\", \"W4\"]\n",
    "mags = ['MAG_'+band for band in BANDS]\n",
    "key_list = mags \n",
    "color_list = ['blue', 'green', 'red', 'yellow', 'black', \"purple\", \"gold\"]\n",
    "\n",
    "# Criando uma figura para conter o subplot:\n",
    "hor = 2\n",
    "ver = 4\n",
    "\n",
    "plt.style.use('classic')\n",
    "\n",
    "fig = plt.figure(figsize=(14, 14), constrained_layout=True)\n",
    "# matplotlib.pyplot.figure(num=None, figsize=None, constrained_layout=bool)\n",
    "# If True use constrained layout to adjust positioning of plot elements.\n",
    "\n",
    "gs = fig.add_gridspec(ver, hor, left=0.05, right=0.5, wspace=0.05)\n",
    "#Specifies the geometry of the grid that a subplot will be placed. The number of rows and \n",
    "#number of columns of the grid need to be set. Optionally, the subplot layout parameters\n",
    "#(e.g., left, right, etc.) can be tuned.\n",
    "\n",
    "# Definindo uma função para especificar o ínicio e fim de cada barra e fazendo o plot.\n",
    "\n",
    "i=0\n",
    "binsize=0.2\n",
    "def binarange(arr, binsize):\n",
    "    return np.arange(np.nanmin(arr), np.nanmax(arr)+binsize, binsize)\n",
    "#Começa no valor mínimo contido na coluna, termina no valor máximo mais a largura, e dá passos de acordo com\n",
    "#a largura definida.\n",
    "\n",
    "#Example\n",
    "#binarange(data.field(\"MAG_R\"), binsize)\n",
    "\n",
    "for v in range(ver):\n",
    "    for h in range(hor):\n",
    "        if v==(ver-1):\n",
    "            ax = fig.add_subplot(gs[v, 0])\n",
    "            bins = binarange(data.field(key_list[i]), binsize)\n",
    "            ax = df[key_list[i]].plot.hist(bins=bins, color=color_list[i], alpha=0.7)\n",
    "            ax.set_title(key_list[i])\n",
    "            \n",
    "            ax = fig.add_subplot(gs[v, 1])\n",
    "            for c, key in enumerate(key_list):\n",
    "                bins = binarange(data.field(key), binsize)\n",
    "                ax = df[key].plot.hist(bins=bins, color=color_list[c], alpha=1, label=key, histtype='step')\n",
    "            ax.set_title(\"All Mags\")\n",
    "            plt.legend()\n",
    "            break\n",
    "            i+=1\n",
    "                 \n",
    "        mags = ['MAG_'+band for band in BANDS]\n",
    "    \n",
    "        ax = fig.add_subplot(gs[v, h])\n",
    "        bins = binarange(data.field(key_list[i]), binsize)\n",
    "        ax = df[key_list[i]].plot.hist(bins=bins, color=color_list[i], alpha=0.7)\n",
    "        ax.set_title(key_list[i])\n",
    "        i+=1\n",
    "\n",
    "plt.show"
   ]
  },
  {
   "cell_type": "markdown",
   "id": "b2badbf6",
   "metadata": {},
   "source": [
    "# Resolução do Exercício"
   ]
  },
  {
   "cell_type": "markdown",
   "id": "d5784a6a",
   "metadata": {},
   "source": [
    "Primeiramente, farei a subtração das colunas da tabela."
   ]
  },
  {
   "cell_type": "code",
   "execution_count": 26,
   "id": "5de73ba6",
   "metadata": {},
   "outputs": [],
   "source": [
    "table_b = table_a[['MAG_R','MAG_G','MAG_Z','MAG_W1','MAG_W2','MAG_W3','MAG_W4']]"
   ]
  },
  {
   "cell_type": "code",
   "execution_count": 27,
   "id": "6a620aea",
   "metadata": {},
   "outputs": [],
   "source": [
    "df_b = table_b.to_pandas()"
   ]
  },
  {
   "cell_type": "code",
   "execution_count": 28,
   "id": "455b1e51",
   "metadata": {},
   "outputs": [],
   "source": [
    "diff_b = df_b.diff(axis=1)"
   ]
  },
  {
   "cell_type": "code",
   "execution_count": 29,
   "id": "ef4d63a6",
   "metadata": {},
   "outputs": [],
   "source": [
    "diff_b = diff_b.drop(columns=['MAG_R'])"
   ]
  },
  {
   "cell_type": "code",
   "execution_count": 30,
   "id": "d9b71476",
   "metadata": {},
   "outputs": [],
   "source": [
    "diff_b = diff_b.rename(columns={'MAG_G': 'DIF_GR', 'MAG_Z': 'DIF_ZG', 'MAG_W1': 'DIF_W1Z', 'MAG_W2': 'DIF_W2W1', 'MAG_W3': 'DIF_W3W2', 'MAG_W4': 'DIF_W4W3'})"
   ]
  },
  {
   "cell_type": "code",
   "execution_count": 31,
   "id": "461b3a07",
   "metadata": {},
   "outputs": [
    {
     "data": {
      "text/plain": [
       "<function matplotlib.pyplot.show(close=None, block=None)>"
      ]
     },
     "execution_count": 31,
     "metadata": {},
     "output_type": "execute_result"
    },
    {
     "data": {
      "image/png": "[encoded data removed]",
      "text/plain": [
       "<Figure size 1120x1440 with 7 Axes>"
      ]
     },
     "metadata": {},
     "output_type": "display_data"
    }
   ],
   "source": [
    "data = Table.from_pandas(diff_b)\n",
    "### COLOR PLOTS\n",
    "BANDS = [\"GR\",\"ZG\", \"W1Z\", \"W2W1\", \"W3W2\", \"W4W3\"]\n",
    "mags = ['DIF_'+band for band in BANDS]\n",
    "key_list = mags \n",
    "color_list = ['blue', 'green', 'red', 'yellow', 'black', \"purple\"]\n",
    "\n",
    "# Criando uma figura para conter o subplot:\n",
    "hor = 2\n",
    "ver = 4\n",
    "\n",
    "plt.style.use('classic')\n",
    "\n",
    "fig = plt.figure(figsize=(14, 18), constrained_layout=True)\n",
    "# matplotlib.pyplot.figure(num=None, figsize=None, constrained_layout=bool)\n",
    "# If True use constrained layout to adjust positioning of plot elements.\n",
    "\n",
    "gs = fig.add_gridspec(ver, hor, left=0.05, right=0.5, wspace=0.05)\n",
    "#Specifies the geometry of the grid that a subplot will be placed. The number of rows and \n",
    "#number of columns of the grid need to be set. Optionally, the subplot layout parameters\n",
    "#(e.g., left, right, etc.) can be tuned.\n",
    "\n",
    "\n",
    "# Definindo uma função para especificar o ínicio e fim de cada barra e fazendo o plot.\n",
    "\n",
    "i=0\n",
    "binsize=0.2\n",
    "def binarange(arr, binsize):\n",
    "    return np.arange(np.nanmin(arr), np.nanmax(arr)+binsize, binsize)\n",
    "#Começa no valor mínimo contido na coluna, termina no valor máximo mais a largura, e dá passos de acordo com\n",
    "#a largura definida.\n",
    "\n",
    "#Example\n",
    "#binarange(data.field(\"MAG_R\"), binsize)\n",
    "\n",
    "for v in range(ver):\n",
    "    for h in range(hor):\n",
    "        if v==(ver-1):\n",
    "           \n",
    "            ax = fig.add_subplot(gs[v, 0])\n",
    "            for c, key in enumerate(key_list):\n",
    "                bins = binarange(data.field(key), binsize)\n",
    "                ax = diff_b[key].plot.hist(bins=bins, color=color_list[c], alpha=1, label=key, histtype='step')\n",
    "            ax.set_title(\"All Colors\")\n",
    "            plt.legend()\n",
    "            break\n",
    "            i+=1\n",
    "                 \n",
    "        mags = ['MAG_'+band for band in BANDS]\n",
    "    \n",
    "        ax = fig.add_subplot(gs[v, h])\n",
    "        bins = binarange(data.field(key_list[i]), binsize)\n",
    "        ax = diff_b[key_list[i]].plot.hist(bins=bins, color=color_list[i], alpha=0.7)\n",
    "        ax.set_title(key_list[i])\n",
    "        i+=1\n",
    "\n",
    "plt.show"
   ]
  },
  {
   "cell_type": "markdown",
   "id": "353c494a",
   "metadata": {},
   "source": [
    "Agora, tem-se que salvar em um arquivo fits."
   ]
  },
  {
   "cell_type": "code",
   "execution_count": 32,
   "id": "f5bba8ed",
   "metadata": {},
   "outputs": [],
   "source": [
    "new_df1 = pd.concat([df, diff_b], axis=1)"
   ]
  },
  {
   "cell_type": "code",
   "execution_count": 33,
   "id": "d68b95fa",
   "metadata": {},
   "outputs": [
    {
     "data": {
      "text/html": [
       "<div>\n",
       "<style scoped>\n",
       "    .dataframe tbody tr th:only-of-type {\n",
       "        vertical-align: middle;\n",
       "    }\n",
       "\n",
       "    .dataframe tbody tr th {\n",
       "        vertical-align: top;\n",
       "    }\n",
       "\n",
       "    .dataframe thead th {\n",
       "        text-align: right;\n",
       "    }\n",
       "</style>\n",
       "<table border=\"1\" class=\"dataframe\">\n",
       "  <thead>\n",
       "    <tr style=\"text-align: right;\">\n",
       "      <th></th>\n",
       "      <th>ra</th>\n",
       "      <th>dec</th>\n",
       "      <th>MAG_R</th>\n",
       "      <th>MAG_G</th>\n",
       "      <th>MAG_Z</th>\n",
       "      <th>MAG_W1</th>\n",
       "      <th>MAG_W2</th>\n",
       "      <th>MAG_W3</th>\n",
       "      <th>MAG_W4</th>\n",
       "      <th>MAGErr_R</th>\n",
       "      <th>...</th>\n",
       "      <th>zmin</th>\n",
       "      <th>zmax</th>\n",
       "      <th>z_spec</th>\n",
       "      <th>training</th>\n",
       "      <th>DIF_GR</th>\n",
       "      <th>DIF_ZG</th>\n",
       "      <th>DIF_W1Z</th>\n",
       "      <th>DIF_W2W1</th>\n",
       "      <th>DIF_W3W2</th>\n",
       "      <th>DIF_W4W3</th>\n",
       "    </tr>\n",
       "  </thead>\n",
       "  <tbody>\n",
       "    <tr>\n",
       "      <th>0</th>\n",
       "      <td>219.082895</td>\n",
       "      <td>34.625036</td>\n",
       "      <td>22.280201</td>\n",
       "      <td>23.840595</td>\n",
       "      <td>20.669277</td>\n",
       "      <td>19.442677</td>\n",
       "      <td>19.876930</td>\n",
       "      <td>16.879316</td>\n",
       "      <td>NaN</td>\n",
       "      <td>0.068069</td>\n",
       "      <td>...</td>\n",
       "      <td>0.702562</td>\n",
       "      <td>0.863962</td>\n",
       "      <td>-99.000</td>\n",
       "      <td>0.0</td>\n",
       "      <td>1.560394</td>\n",
       "      <td>-3.171318</td>\n",
       "      <td>-1.226601</td>\n",
       "      <td>0.434254</td>\n",
       "      <td>-2.997614</td>\n",
       "      <td>NaN</td>\n",
       "    </tr>\n",
       "    <tr>\n",
       "      <th>1</th>\n",
       "      <td>219.018687</td>\n",
       "      <td>34.625374</td>\n",
       "      <td>20.950979</td>\n",
       "      <td>22.239498</td>\n",
       "      <td>20.180450</td>\n",
       "      <td>19.764698</td>\n",
       "      <td>20.027622</td>\n",
       "      <td>18.840683</td>\n",
       "      <td>NaN</td>\n",
       "      <td>0.020584</td>\n",
       "      <td>...</td>\n",
       "      <td>0.288449</td>\n",
       "      <td>0.397827</td>\n",
       "      <td>-99.000</td>\n",
       "      <td>0.0</td>\n",
       "      <td>1.288519</td>\n",
       "      <td>-2.059048</td>\n",
       "      <td>-0.415752</td>\n",
       "      <td>0.262924</td>\n",
       "      <td>-1.186939</td>\n",
       "      <td>NaN</td>\n",
       "    </tr>\n",
       "    <tr>\n",
       "      <th>2</th>\n",
       "      <td>218.976383</td>\n",
       "      <td>34.626466</td>\n",
       "      <td>18.890739</td>\n",
       "      <td>20.205397</td>\n",
       "      <td>18.109526</td>\n",
       "      <td>18.055065</td>\n",
       "      <td>18.447739</td>\n",
       "      <td>NaN</td>\n",
       "      <td>NaN</td>\n",
       "      <td>0.005011</td>\n",
       "      <td>...</td>\n",
       "      <td>0.209061</td>\n",
       "      <td>0.230530</td>\n",
       "      <td>0.206</td>\n",
       "      <td>1.0</td>\n",
       "      <td>1.314657</td>\n",
       "      <td>-2.095871</td>\n",
       "      <td>-0.054461</td>\n",
       "      <td>0.392673</td>\n",
       "      <td>NaN</td>\n",
       "      <td>NaN</td>\n",
       "    </tr>\n",
       "    <tr>\n",
       "      <th>3</th>\n",
       "      <td>218.924620</td>\n",
       "      <td>34.625596</td>\n",
       "      <td>20.606371</td>\n",
       "      <td>21.781631</td>\n",
       "      <td>19.691599</td>\n",
       "      <td>19.006557</td>\n",
       "      <td>19.443335</td>\n",
       "      <td>20.748812</td>\n",
       "      <td>NaN</td>\n",
       "      <td>0.020479</td>\n",
       "      <td>...</td>\n",
       "      <td>0.485855</td>\n",
       "      <td>0.588631</td>\n",
       "      <td>-99.000</td>\n",
       "      <td>0.0</td>\n",
       "      <td>1.175261</td>\n",
       "      <td>-2.090033</td>\n",
       "      <td>-0.685041</td>\n",
       "      <td>0.436777</td>\n",
       "      <td>1.305477</td>\n",
       "      <td>NaN</td>\n",
       "    </tr>\n",
       "    <tr>\n",
       "      <th>4</th>\n",
       "      <td>219.104225</td>\n",
       "      <td>34.625848</td>\n",
       "      <td>20.372391</td>\n",
       "      <td>21.050526</td>\n",
       "      <td>20.042389</td>\n",
       "      <td>20.373194</td>\n",
       "      <td>20.973274</td>\n",
       "      <td>19.442488</td>\n",
       "      <td>17.469923</td>\n",
       "      <td>0.018710</td>\n",
       "      <td>...</td>\n",
       "      <td>0.191055</td>\n",
       "      <td>0.257679</td>\n",
       "      <td>-99.000</td>\n",
       "      <td>0.0</td>\n",
       "      <td>0.678135</td>\n",
       "      <td>-1.008137</td>\n",
       "      <td>0.330805</td>\n",
       "      <td>0.600080</td>\n",
       "      <td>-1.530787</td>\n",
       "      <td>-1.972565</td>\n",
       "    </tr>\n",
       "    <tr>\n",
       "      <th>...</th>\n",
       "      <td>...</td>\n",
       "      <td>...</td>\n",
       "      <td>...</td>\n",
       "      <td>...</td>\n",
       "      <td>...</td>\n",
       "      <td>...</td>\n",
       "      <td>...</td>\n",
       "      <td>...</td>\n",
       "      <td>...</td>\n",
       "      <td>...</td>\n",
       "      <td>...</td>\n",
       "      <td>...</td>\n",
       "      <td>...</td>\n",
       "      <td>...</td>\n",
       "      <td>...</td>\n",
       "      <td>...</td>\n",
       "      <td>...</td>\n",
       "      <td>...</td>\n",
       "      <td>...</td>\n",
       "      <td>...</td>\n",
       "      <td>...</td>\n",
       "    </tr>\n",
       "    <tr>\n",
       "      <th>203479</th>\n",
       "      <td>221.384627</td>\n",
       "      <td>35.031304</td>\n",
       "      <td>20.289848</td>\n",
       "      <td>22.006527</td>\n",
       "      <td>19.473064</td>\n",
       "      <td>18.800829</td>\n",
       "      <td>19.199001</td>\n",
       "      <td>22.347729</td>\n",
       "      <td>NaN</td>\n",
       "      <td>0.023790</td>\n",
       "      <td>...</td>\n",
       "      <td>0.371137</td>\n",
       "      <td>0.430521</td>\n",
       "      <td>-99.000</td>\n",
       "      <td>0.0</td>\n",
       "      <td>1.716679</td>\n",
       "      <td>-2.533463</td>\n",
       "      <td>-0.672235</td>\n",
       "      <td>0.398172</td>\n",
       "      <td>3.148727</td>\n",
       "      <td>NaN</td>\n",
       "    </tr>\n",
       "    <tr>\n",
       "      <th>203480</th>\n",
       "      <td>221.267106</td>\n",
       "      <td>35.032654</td>\n",
       "      <td>22.278854</td>\n",
       "      <td>24.686527</td>\n",
       "      <td>21.332008</td>\n",
       "      <td>20.327465</td>\n",
       "      <td>21.582365</td>\n",
       "      <td>NaN</td>\n",
       "      <td>15.524459</td>\n",
       "      <td>0.155021</td>\n",
       "      <td>...</td>\n",
       "      <td>0.445291</td>\n",
       "      <td>0.598062</td>\n",
       "      <td>-99.000</td>\n",
       "      <td>0.0</td>\n",
       "      <td>2.407673</td>\n",
       "      <td>-3.354519</td>\n",
       "      <td>-1.004543</td>\n",
       "      <td>1.254900</td>\n",
       "      <td>NaN</td>\n",
       "      <td>NaN</td>\n",
       "    </tr>\n",
       "    <tr>\n",
       "      <th>203481</th>\n",
       "      <td>221.357931</td>\n",
       "      <td>35.031956</td>\n",
       "      <td>21.256090</td>\n",
       "      <td>22.794085</td>\n",
       "      <td>20.244637</td>\n",
       "      <td>18.834969</td>\n",
       "      <td>19.022402</td>\n",
       "      <td>17.893970</td>\n",
       "      <td>16.110783</td>\n",
       "      <td>0.057986</td>\n",
       "      <td>...</td>\n",
       "      <td>0.444781</td>\n",
       "      <td>0.568702</td>\n",
       "      <td>-99.000</td>\n",
       "      <td>0.0</td>\n",
       "      <td>1.537994</td>\n",
       "      <td>-2.549448</td>\n",
       "      <td>-1.409668</td>\n",
       "      <td>0.187433</td>\n",
       "      <td>-1.128431</td>\n",
       "      <td>-1.783188</td>\n",
       "    </tr>\n",
       "    <tr>\n",
       "      <th>203482</th>\n",
       "      <td>221.140035</td>\n",
       "      <td>35.031835</td>\n",
       "      <td>20.928772</td>\n",
       "      <td>22.810913</td>\n",
       "      <td>19.648155</td>\n",
       "      <td>18.766457</td>\n",
       "      <td>19.179871</td>\n",
       "      <td>NaN</td>\n",
       "      <td>NaN</td>\n",
       "      <td>0.033461</td>\n",
       "      <td>...</td>\n",
       "      <td>0.527032</td>\n",
       "      <td>0.596554</td>\n",
       "      <td>-99.000</td>\n",
       "      <td>0.0</td>\n",
       "      <td>1.882141</td>\n",
       "      <td>-3.162758</td>\n",
       "      <td>-0.881699</td>\n",
       "      <td>0.413414</td>\n",
       "      <td>NaN</td>\n",
       "      <td>NaN</td>\n",
       "    </tr>\n",
       "    <tr>\n",
       "      <th>203483</th>\n",
       "      <td>221.306115</td>\n",
       "      <td>35.032601</td>\n",
       "      <td>22.024387</td>\n",
       "      <td>23.518301</td>\n",
       "      <td>20.663643</td>\n",
       "      <td>19.733841</td>\n",
       "      <td>20.518625</td>\n",
       "      <td>NaN</td>\n",
       "      <td>NaN</td>\n",
       "      <td>0.079692</td>\n",
       "      <td>...</td>\n",
       "      <td>0.608144</td>\n",
       "      <td>0.773673</td>\n",
       "      <td>-99.000</td>\n",
       "      <td>0.0</td>\n",
       "      <td>1.493914</td>\n",
       "      <td>-2.854658</td>\n",
       "      <td>-0.929802</td>\n",
       "      <td>0.784784</td>\n",
       "      <td>NaN</td>\n",
       "      <td>NaN</td>\n",
       "    </tr>\n",
       "  </tbody>\n",
       "</table>\n",
       "<p>203484 rows × 28 columns</p>\n",
       "</div>"
      ],
      "text/plain": [
       "                ra        dec      MAG_R      MAG_G      MAG_Z     MAG_W1  \\\n",
       "0       219.082895  34.625036  22.280201  23.840595  20.669277  19.442677   \n",
       "1       219.018687  34.625374  20.950979  22.239498  20.180450  19.764698   \n",
       "2       218.976383  34.626466  18.890739  20.205397  18.109526  18.055065   \n",
       "3       218.924620  34.625596  20.606371  21.781631  19.691599  19.006557   \n",
       "4       219.104225  34.625848  20.372391  21.050526  20.042389  20.373194   \n",
       "...            ...        ...        ...        ...        ...        ...   \n",
       "203479  221.384627  35.031304  20.289848  22.006527  19.473064  18.800829   \n",
       "203480  221.267106  35.032654  22.278854  24.686527  21.332008  20.327465   \n",
       "203481  221.357931  35.031956  21.256090  22.794085  20.244637  18.834969   \n",
       "203482  221.140035  35.031835  20.928772  22.810913  19.648155  18.766457   \n",
       "203483  221.306115  35.032601  22.024387  23.518301  20.663643  19.733841   \n",
       "\n",
       "           MAG_W2     MAG_W3     MAG_W4  MAGErr_R  ...      zmin      zmax  \\\n",
       "0       19.876930  16.879316        NaN  0.068069  ...  0.702562  0.863962   \n",
       "1       20.027622  18.840683        NaN  0.020584  ...  0.288449  0.397827   \n",
       "2       18.447739        NaN        NaN  0.005011  ...  0.209061  0.230530   \n",
       "3       19.443335  20.748812        NaN  0.020479  ...  0.485855  0.588631   \n",
       "4       20.973274  19.442488  17.469923  0.018710  ...  0.191055  0.257679   \n",
       "...           ...        ...        ...       ...  ...       ...       ...   \n",
       "203479  19.199001  22.347729        NaN  0.023790  ...  0.371137  0.430521   \n",
       "203480  21.582365        NaN  15.524459  0.155021  ...  0.445291  0.598062   \n",
       "203481  19.022402  17.893970  16.110783  0.057986  ...  0.444781  0.568702   \n",
       "203482  19.179871        NaN        NaN  0.033461  ...  0.527032  0.596554   \n",
       "203483  20.518625        NaN        NaN  0.079692  ...  0.608144  0.773673   \n",
       "\n",
       "        z_spec  training    DIF_GR    DIF_ZG   DIF_W1Z  DIF_W2W1  DIF_W3W2  \\\n",
       "0      -99.000       0.0  1.560394 -3.171318 -1.226601  0.434254 -2.997614   \n",
       "1      -99.000       0.0  1.288519 -2.059048 -0.415752  0.262924 -1.186939   \n",
       "2        0.206       1.0  1.314657 -2.095871 -0.054461  0.392673       NaN   \n",
       "3      -99.000       0.0  1.175261 -2.090033 -0.685041  0.436777  1.305477   \n",
       "4      -99.000       0.0  0.678135 -1.008137  0.330805  0.600080 -1.530787   \n",
       "...        ...       ...       ...       ...       ...       ...       ...   \n",
       "203479 -99.000       0.0  1.716679 -2.533463 -0.672235  0.398172  3.148727   \n",
       "203480 -99.000       0.0  2.407673 -3.354519 -1.004543  1.254900       NaN   \n",
       "203481 -99.000       0.0  1.537994 -2.549448 -1.409668  0.187433 -1.128431   \n",
       "203482 -99.000       0.0  1.882141 -3.162758 -0.881699  0.413414       NaN   \n",
       "203483 -99.000       0.0  1.493914 -2.854658 -0.929802  0.784784       NaN   \n",
       "\n",
       "        DIF_W4W3  \n",
       "0            NaN  \n",
       "1            NaN  \n",
       "2            NaN  \n",
       "3            NaN  \n",
       "4      -1.972565  \n",
       "...          ...  \n",
       "203479       NaN  \n",
       "203480       NaN  \n",
       "203481 -1.783188  \n",
       "203482       NaN  \n",
       "203483       NaN  \n",
       "\n",
       "[203484 rows x 28 columns]"
      ]
     },
     "execution_count": 33,
     "metadata": {},
     "output_type": "execute_result"
    }
   ],
   "source": [
    "new_df1"
   ]
  },
  {
   "cell_type": "markdown",
   "id": "e01b316f",
   "metadata": {},
   "source": [
    "Salvando em um arquivo fits:"
   ]
  },
  {
   "cell_type": "code",
   "execution_count": 43,
   "id": "ba8ffa22",
   "metadata": {
    "scrolled": true
   },
   "outputs": [],
   "source": [
    "new_table1 = Table.from_pandas(new_df1)\n",
    "tabela_exercicio_1 = os.path.join(\"arquivosgerados\",'NewLegacyCatalog.fits')\n",
    "hdu = fits.BinTableHDU(data=new_table1)\n",
    "hdu.writeto(tabela_exercicio_1, overwrite=True)\n"
   ]
  },
  {
   "cell_type": "code",
   "execution_count": 44,
   "id": "47bb9ad2",
   "metadata": {},
   "outputs": [],
   "source": [
    "hdul = fits.open(\"arquivosgerados/NewLegacyCatalog.fits\", ignore_missing_end=True)"
   ]
  },
  {
   "cell_type": "code",
   "execution_count": 45,
   "id": "1bc9e549",
   "metadata": {},
   "outputs": [
    {
     "name": "stdout",
     "output_type": "stream",
     "text": [
      "        ra                dec         ...       DIF_W4W3     \n",
      "------------------ ------------------ ... -------------------\n",
      "219.08289517954503  34.62503563674176 ...                 nan\n",
      "  219.018686653907  34.62537369835652 ...                 nan\n",
      " 218.9763831277981 34.626465741964694 ...                 nan\n",
      "218.92461988134852  34.62559613136096 ...                 nan\n",
      "219.10422528282172  34.62584794653823 ...  -1.972564697265625\n",
      " 219.1401551191026  34.63060062779776 ...                 nan\n",
      "219.07940419061788   34.6265108832743 ...                 nan\n",
      "               ...                ... ...                 ...\n",
      "221.30998851742496  35.03107476388605 ...                 nan\n",
      "221.30899510953466  35.02957290846069 ...                 nan\n",
      " 221.3846269372925  35.03130360684637 ...                 nan\n",
      "221.26710586697644  35.03265425222566 ...                 nan\n",
      "221.35793083937708   35.0319557953791 ... -1.7831878662109375\n",
      "221.14003466677406 35.031834870454304 ...                 nan\n",
      "221.30611517880223 35.032600651235455 ...                 nan\n",
      "Length = 203484 rows\n",
      "<TableColumns names=('ra','dec','MAG_R','MAG_G','MAG_Z','MAG_W1','MAG_W2','MAG_W3','MAG_W4','MAGErr_R','MAGErr_G','MAGErr_Z','MAGErr_W1','MAGErr_W2','MAGErr_W3','MAGErr_W4','z','zErr','zmin','zmax','z_spec','training','DIF_GR','DIF_ZG','DIF_W1Z','DIF_W2W1','DIF_W3W2','DIF_W4W3')>\n"
     ]
    }
   ],
   "source": [
    "data = hdul[1].data # table extensions can't be the first extension, so there's a dummy image extension at 1\n",
    "cat_table = Table(data)\n",
    "cols=cat_table.columns\n",
    "print(cat_table)\n",
    "print(cols)"
   ]
  }
 ],
 "metadata": {
  "kernelspec": {
   "display_name": "Python 3 (ipykernel)",
   "language": "python",
   "name": "python3"
  },
  "language_info": {
   "codemirror_mode": {
    "name": "ipython",
    "version": 3
   },
   "file_extension": ".py",
   "mimetype": "text/x-python",
   "name": "python",
   "nbconvert_exporter": "python",
   "pygments_lexer": "ipython3",
   "version": "3.8.10"
  }
 },
 "nbformat": 4,
 "nbformat_minor": 5
}
